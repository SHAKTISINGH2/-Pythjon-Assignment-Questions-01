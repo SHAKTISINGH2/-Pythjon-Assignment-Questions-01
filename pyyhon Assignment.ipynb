{
 "cells": [
  {
   "cell_type": "markdown",
   "id": "33c13c6c-ebe0-4e9c-898f-6d3227eb2e0d",
   "metadata": {},
   "source": [
    "Q1. Which keyword is used to create a function? Create a function to return a list of odd numbers in the\n",
    "range of 1 to 25."
   ]
  },
  {
   "cell_type": "code",
   "execution_count": 1,
   "id": "87beb5a2-5a95-4ac3-a3e7-0a6bfc60a86b",
   "metadata": {},
   "outputs": [
    {
     "name": "stdout",
     "output_type": "stream",
     "text": [
      "[1, 3, 5, 7, 9, 11, 13, 15, 17, 19, 21, 23, 25]\n"
     ]
    }
   ],
   "source": [
    "def get_odd_numbers(start, end):\n",
    "    \"\"\"Return a list of odd numbers in the given range.\"\"\"\n",
    "    odd_numbers = [num for num in range(start, end + 1) if num % 2 != 0]\n",
    "    return odd_numbers\n",
    "\n",
    "# Example usage\n",
    "start_range = 1\n",
    "end_range = 25\n",
    "odd_numbers_list = get_odd_numbers(start_range, end_range)\n",
    "print(odd_numbers_list)\n"
   ]
  },
  {
   "cell_type": "markdown",
   "id": "1551ec3a-0aa4-485e-a041-403822a90c38",
   "metadata": {},
   "source": [
    "Q2. Why *args and **kwargs is used in some functions? Create a function each for *args and **kwargs\n",
    "to demonstrate their use."
   ]
  },
  {
   "cell_type": "code",
   "execution_count": null,
   "id": "2beeebfa-04f0-4aa4-a24e-9e7b7ffe0a67",
   "metadata": {},
   "outputs": [],
   "source": [
    "# 1. Using *args\n",
    "# Function to demonstrate *args:"
   ]
  },
  {
   "cell_type": "code",
   "execution_count": 2,
   "id": "844d6785-5692-42d4-b828-bd77d3dde642",
   "metadata": {},
   "outputs": [
    {
     "name": "stdout",
     "output_type": "stream",
     "text": [
      "1\n",
      "2\n",
      "3\n",
      "4\n",
      "5\n"
     ]
    }
   ],
   "source": [
    "def print_numbers(*args):\n",
    "    \"\"\"Prints all positional arguments passed to the function.\"\"\"\n",
    "    for number in args:\n",
    "        print(number)\n",
    "\n",
    "# Example usage\n",
    "print_numbers(1, 2, 3, 4, 5)\n"
   ]
  },
  {
   "cell_type": "code",
   "execution_count": 3,
   "id": "c2148089-fe02-4356-8d04-f095ba756731",
   "metadata": {},
   "outputs": [],
   "source": [
    "# 2. Using **kwargs\n",
    "# Function to demonstrate **kwargs:"
   ]
  },
  {
   "cell_type": "code",
   "execution_count": 4,
   "id": "71d955d8-68a8-4c4e-b5ea-6d72e78574c3",
   "metadata": {},
   "outputs": [
    {
     "name": "stdout",
     "output_type": "stream",
     "text": [
      "name: Alice\n",
      "age: 30\n",
      "city: New York\n"
     ]
    }
   ],
   "source": [
    "def print_info(**kwargs):\n",
    "    \"\"\"Prints all keyword arguments passed to the function.\"\"\"\n",
    "    for key, value in kwargs.items():\n",
    "        print(f\"{key}: {value}\")\n",
    "\n",
    "# Example usage\n",
    "print_info(name=\"Alice\", age=30, city=\"New York\")\n"
   ]
  },
  {
   "cell_type": "markdown",
   "id": "fa513236-b2dd-47b9-aad3-4b58e67b9ead",
   "metadata": {},
   "source": [
    "Q3. What is an iterator in python? Name the method used to initialise the iterator object and the method\n",
    "used for iteration. Use these methods to print the first five elements of the given list [2, 4, 6, 8, 10, 12, 14,\n",
    "16, 18, 20]."
   ]
  },
  {
   "cell_type": "code",
   "execution_count": 5,
   "id": "aab39e86-fbaf-4207-9d3b-a2b1315f62ce",
   "metadata": {},
   "outputs": [
    {
     "name": "stdout",
     "output_type": "stream",
     "text": [
      "The first five elements are:\n",
      "2\n",
      "4\n",
      "6\n",
      "8\n",
      "10\n"
     ]
    }
   ],
   "source": [
    "# List of elements\n",
    "numbers = [2, 4, 6, 8, 10, 12, 14, 16, 18, 20]\n",
    "\n",
    "# Initialize the iterator object\n",
    "iterator = iter(numbers)\n",
    "\n",
    "# Print the first five elements\n",
    "print(\"The first five elements are:\")\n",
    "for _ in range(5):\n",
    "    print(next(iterator))\n"
   ]
  },
  {
   "cell_type": "markdown",
   "id": "305e5565-2f67-4264-bc73-cb423e2ba4bc",
   "metadata": {},
   "source": [
    "Q4. What is a generator function in python? Why yield keyword is used? Give an example of a generator\n",
    "function."
   ]
  },
  {
   "cell_type": "code",
   "execution_count": 6,
   "id": "2cabf01e-d58f-4706-abac-7db6b5b5149a",
   "metadata": {},
   "outputs": [
    {
     "name": "stdout",
     "output_type": "stream",
     "text": [
      "Fibonacci sequence:\n",
      "0\n",
      "1\n",
      "1\n",
      "2\n",
      "3\n",
      "5\n",
      "8\n",
      "13\n",
      "21\n",
      "34\n"
     ]
    }
   ],
   "source": [
    "def fibonacci_generator(n):\n",
    "    \"\"\"Generate the Fibonacci sequence up to the nth number.\"\"\"\n",
    "    a, b = 0, 1\n",
    "    count = 0\n",
    "    while count < n:\n",
    "        yield a\n",
    "        a, b = b, a + b\n",
    "        count += 1\n",
    "\n",
    "# Example usage\n",
    "print(\"Fibonacci sequence:\")\n",
    "for num in fibonacci_generator(10):\n",
    "    print(num)\n"
   ]
  },
  {
   "cell_type": "markdown",
   "id": "394a2125-45df-454c-8818-f88cbeaff58d",
   "metadata": {},
   "source": [
    "Q5. Create a generator function for prime numbers less than 1000. Use the next() method to print the\n",
    "first 20 prime numbers."
   ]
  },
  {
   "cell_type": "code",
   "execution_count": 7,
   "id": "c1c312de-e372-4481-ad0e-8563ba211a60",
   "metadata": {},
   "outputs": [
    {
     "name": "stdout",
     "output_type": "stream",
     "text": [
      "The first 20 prime numbers are:\n",
      "2\n",
      "3\n",
      "5\n",
      "7\n",
      "11\n",
      "13\n",
      "17\n",
      "19\n",
      "23\n",
      "29\n",
      "31\n",
      "37\n",
      "41\n",
      "43\n",
      "47\n",
      "53\n",
      "59\n",
      "61\n",
      "67\n",
      "71\n"
     ]
    }
   ],
   "source": [
    "def is_prime(num):\n",
    "    \"\"\"Check if a number is prime.\"\"\"\n",
    "    if num <= 1:\n",
    "        return False\n",
    "    if num <= 3:\n",
    "        return True\n",
    "    if num % 2 == 0 or num % 3 == 0:\n",
    "        return False\n",
    "    i = 5\n",
    "    while i * i <= num:\n",
    "        if num % i == 0 or num % (i + 2) == 0:\n",
    "            return False\n",
    "        i += 6\n",
    "    return True\n",
    "\n",
    "def prime_generator(limit):\n",
    "    \"\"\"Generate prime numbers less than the given limit.\"\"\"\n",
    "    num = 2\n",
    "    while num < limit:\n",
    "        if is_prime(num):\n",
    "            yield num\n",
    "        num += 1\n",
    "\n",
    "# Create the prime generator\n",
    "gen = prime_generator(1000)\n",
    "\n",
    "# Print the first 20 prime numbers\n",
    "print(\"The first 20 prime numbers are:\")\n",
    "for _ in range(20):\n",
    "    print(next(gen))\n"
   ]
  },
  {
   "cell_type": "markdown",
   "id": "e3b14c53-cc50-4e58-8109-e4b652cc4dc8",
   "metadata": {},
   "source": [
    "Q6. Write a python program to print the first 10 Fibonacci numbers using a while loop."
   ]
  },
  {
   "cell_type": "code",
   "execution_count": 8,
   "id": "c00054e3-b856-48c9-89b2-4cdb83fbe13e",
   "metadata": {},
   "outputs": [
    {
     "name": "stdout",
     "output_type": "stream",
     "text": [
      "0 1 1 2 3 5 8 13 21 34 "
     ]
    }
   ],
   "source": [
    "def print_fibonacci(n):\n",
    "    \"\"\"Print the first n Fibonacci numbers.\"\"\"\n",
    "    a, b = 0, 1  # Initial Fibonacci numbers\n",
    "    count = 0    # Counter for the number of Fibonacci numbers printed\n",
    "\n",
    "    while count < n:\n",
    "        print(a, end=' ')\n",
    "        a, b = b, a + b  # Update values for the next Fibonacci numbers\n",
    "        count += 1       # Increment the count\n",
    "\n",
    "# Print the first 10 Fibonacci numbers\n",
    "print_fibonacci(10)\n"
   ]
  },
  {
   "cell_type": "markdown",
   "id": "b978e748-4647-4013-9ab8-def5711e335b",
   "metadata": {},
   "source": [
    "Q7. Write a List Comprehension to iterate through the given string: ‘pwskills’.\n",
    "Expected output: ['p', 'w', 's', 'k', 'i', 'l', 'l', 's']"
   ]
  },
  {
   "cell_type": "code",
   "execution_count": 9,
   "id": "1381add5-680e-4585-ac6a-2e07548cc080",
   "metadata": {},
   "outputs": [
    {
     "name": "stdout",
     "output_type": "stream",
     "text": [
      "['p', 'w', 's', 'k', 'i', 'l', 'l', 's']\n"
     ]
    }
   ],
   "source": [
    "# Given string\n",
    "s = 'pwskills'\n",
    "\n",
    "# List comprehension to iterate through the string and collect characters\n",
    "result = [char for char in s]\n",
    "\n",
    "# Print the result\n",
    "print(result)\n"
   ]
  },
  {
   "cell_type": "markdown",
   "id": "a261f98c-db54-4d38-b442-edb45eba110b",
   "metadata": {},
   "source": [
    "Q8. Write a python program to check whether a given number is Palindrome or not using a while loop."
   ]
  },
  {
   "cell_type": "code",
   "execution_count": 10,
   "id": "d494c2f9-5ae2-4010-8d85-ec18c65a03fa",
   "metadata": {},
   "outputs": [
    {
     "name": "stdin",
     "output_type": "stream",
     "text": [
      "Enter a number to check if it's a palindrome:  45\n"
     ]
    }
   ],
   "source": [
    "def is_palindrome(number):\n",
    "    \"\"\"Check if the given number is a palindrome.\"\"\"\n",
    "    original_number = number\n",
    "    reversed_number = 0\n",
    "    \n",
    "    while number > 0:\n",
    "        digit = number % 10           # Extract the last digit\n",
    "        reversed_number = reversed_number * 10 + digit  # Build the reversed number\n",
    "        number = number // 10         # Remove the last digit from the original number\n",
    "    \n",
    "    # Compare the original number with the reversed number\n",
    "    return original_number == reversed_number\n",
    "\n",
    "# Example usage\n",
    "num = int(input(\"Enter a number to check if it's a palindrome: \"))\n"
   ]
  },
  {
   "cell_type": "markdown",
   "id": "18e98d12-a16f-443f-b977-274350a2e92d",
   "metadata": {},
   "source": [
    "Q9. Write a code to print odd numbers from 1 to 100 using list comprehension.\n",
    "Note: Use a list comprehension to create a list from 1 to 100 and use another List comprehension to filter\n",
    "out odd numbers."
   ]
  },
  {
   "cell_type": "code",
   "execution_count": null,
   "id": "2482e5cd-c798-4caa-bf31-7d101e7aef1f",
   "metadata": {},
   "outputs": [],
   "source": []
  }
 ],
 "metadata": {
  "kernelspec": {
   "display_name": "Python 3 (ipykernel)",
   "language": "python",
   "name": "python3"
  },
  "language_info": {
   "codemirror_mode": {
    "name": "ipython",
    "version": 3
   },
   "file_extension": ".py",
   "mimetype": "text/x-python",
   "name": "python",
   "nbconvert_exporter": "python",
   "pygments_lexer": "ipython3",
   "version": "3.10.8"
  }
 },
 "nbformat": 4,
 "nbformat_minor": 5
}
